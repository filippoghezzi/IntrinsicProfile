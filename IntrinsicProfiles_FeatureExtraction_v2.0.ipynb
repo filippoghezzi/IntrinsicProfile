{
 "cells": [
  {
   "cell_type": "code",
   "execution_count": 67,
   "metadata": {},
   "outputs": [],
   "source": [
    "import os  \n",
    "import pandas as pd\n",
    "import numpy as np\n",
    "import matplotlib.pyplot as plt\n",
    "import matplotlib.gridspec as gridspec\n",
    "from scipy import stats, signal, optimize\n",
    "# from IntrinsicProfiles_Functions import Analyse_Neuron\n",
    "pd.set_option('display.max_rows', 200, 'display.max_columns', 50)\n",
    "np.set_printoptions(threshold=np.inf)\n"
   ]
  },
  {
   "cell_type": "code",
   "execution_count": 68,
   "metadata": {},
   "outputs": [],
   "source": [
    "def loadLabBook(filename):\n",
    "    data = pd.read_csv(filename)\n",
    "    data[\"filename\"] =  data[\"filename\"].apply(lambda x: x if x.endswith(\".abf\") else x+\".abf\")\n",
    "    data.to_csv(filename, index = False)\n",
    "    return data"
   ]
  },
  {
   "cell_type": "code",
   "execution_count": 69,
   "metadata": {},
   "outputs": [],
   "source": [
    "def LoadFileABF_CC(filename, dualPatch = 0):\n",
    "    import pyabf\n",
    "    abf = pyabf.ABF(filename)\n",
    "\n",
    "    abf.setSweep(sweepNumber=0, channel=0)\n",
    "    t = abf.sweepX\n",
    "    sr = abf.dataRate\n",
    "    V = np.empty((0,abf.sweepPointCount))\n",
    "    I = np.empty((0,abf.sweepPointCount))\n",
    "    \n",
    "    firstChannel=0\n",
    "    if dualPatch==2:\n",
    "        firstChannel=2\n",
    "        \n",
    "    for sweep in range(abf.sweepCount):    \n",
    "        abf.setSweep(sweepNumber=sweep, channel=firstChannel)\n",
    "        V = np.vstack((V, abf.sweepY.reshape(1,-1)))\n",
    "        abf.setSweep(sweepNumber=sweep, channel=firstChannel+1)\n",
    "        I = np.vstack((I, abf.sweepY.reshape(1,-1)))\n",
    "    \n",
    "    ## Make output\n",
    "    output = {\n",
    "        \"Voltage\": V,\n",
    "        \"Current\": I,\n",
    "        \"Time\": t,\n",
    "        \"SamplingRate\": sr\n",
    "    } \n",
    "    \n",
    "    return output"
   ]
  },
  {
   "cell_type": "code",
   "execution_count": 70,
   "metadata": {},
   "outputs": [],
   "source": [
    "def Analyse_Tau(V, I, t, sr, plotting = False):\n",
    "    #Start-end current command\n",
    "    dI = np.diff(I, prepend = I[0])\n",
    "    I_peaks,_ = signal.find_peaks(-dI,height=3)\n",
    "    assert np.shape(I_peaks)[0]\n",
    "    I_OFF = np.argmax(dI)\n",
    "    I_ON = np.argmin(dI)\n",
    "\n",
    "    # Decay time constant\n",
    "    def mono_exp(x, a, b):\n",
    "        return a * np.exp(b * x)\n",
    "\n",
    "    xfit = t[I_ON:I_OFF]\n",
    "#     yfit = V[I_ON:I_OFF]-np.mean(V[I_OFF-int(0.005*sr):I_OFF])\n",
    "    yfit = V[I_ON:I_OFF]-np.min(V[I_ON:I_OFF])\n",
    "\n",
    "    popt,pcov = optimize.curve_fit(mono_exp, xfit, yfit, method = 'lm', p0=(1.0,1.0), maxfev = 15000)\n",
    "    Tau = 1/(-popt[1])     \n",
    "\n",
    "    #Plot tau fitting\n",
    "    if plotting:\n",
    "        interpolX=t[I_ON-int(0.02*sr):I_OFF]\n",
    "        plt.figure()\n",
    "        plt.plot(xfit, yfit, 'k', label=\"Data\")\n",
    "        plt.plot(interpolX, mono_exp(interpolX, *popt), 'r-', label=\"Fitted Curve\")    \n",
    "        plt.ylim(yfit.min(),yfit.max())\n",
    "        plt.legend()\n",
    "        plt.show()\n",
    "\n",
    "    return Tau"
   ]
  },
  {
   "cell_type": "code",
   "execution_count": 119,
   "metadata": {},
   "outputs": [],
   "source": [
    "def IntrinsicProfile_AnalyseSweep(V, I, t, sr, plotting = False):\n",
    "    # Initialise output variables\n",
    "    commandDuration = 0\n",
    "    I_command = 0\n",
    "    V_Ih = np.nan\n",
    "    V_SS = np.nan\n",
    "    AP_number = np.nan\n",
    "    AP_firingFrequency = np.nan\n",
    "    AP_threshold = np.nan\n",
    "    AP_spikeHeight = np.nan\n",
    "    AP_halfWidth = np.nan\n",
    "    AP_fAHP = np.nan\n",
    "    AP_adaptationIndexLast = np.nan \n",
    "    AP_adaptationIndexSecond = np.nan\n",
    "    Tau = np.nan\n",
    "    Rin = np.nan\n",
    "    RMP = np.median(V[0:int(0.01*sr)])    \n",
    "\n",
    "    # Current command\n",
    "    dI = np.diff(I, prepend=[I[0]])\n",
    "    I_peaks,_ = signal.find_peaks(dI,height=3)\n",
    "\n",
    "    if np.shape(I_peaks)[0]>0: ## All but zero current sweep\n",
    "        I_ON = np.argmax(dI)\n",
    "        I_OFF = np.argmin(dI)\n",
    "        if I_ON > I_OFF: # Negative current steps\n",
    "            I_OFF = np.argmax(dI)\n",
    "            I_ON = np.argmin(dI)\n",
    "\n",
    "        commandDuration=t[I_OFF]-t[I_ON]\n",
    "        I_command=np.round(np.mean(I[I_ON+int(0.1*sr):I_ON+int(0.2*sr)])-np.mean(I[I_ON-int(0.2*sr):I_ON-int(0.1*sr)]))\n",
    "        \n",
    "        # Resting membrane potential\n",
    "        RMP = np.median(V[I_ON-int(0.01*sr):I_ON])    \n",
    "        \n",
    "        if I_command < 0: #Hyperpolarizing current steps\n",
    "            # Hyperpolarization-induced voltage sag\n",
    "            V_Inst_idx = np.argmin(V[I_ON:I_OFF])+I_ON\n",
    "            V_Inst = V[V_Inst_idx]\n",
    "            V_SS = np.median(V[I_OFF-int(0.01*sr):I_OFF])\n",
    "            V_Ih = V_SS - V_Inst\n",
    "            \n",
    "            Rin = ((RMP-V_SS)/abs(I_command))*1000 # MOhm\n",
    "            \n",
    "            if (I_command >= -45) & (I_command <= -10):\n",
    "                Tau = Analyse_Tau(V, I, t, sr, plotting)                \n",
    "                if (Tau < 0) | (Tau > 0.2):\n",
    "                    Tau = np.nan\n",
    "\n",
    "        else: # Depolarising current steps\n",
    "            #Firing frequency: number action potentials (APs)\n",
    "            V_peaks, _ = signal.find_peaks(V[I_ON:I_OFF+int(.002*sr)], height = -10, prominence = 20, distance = int(.0005*sr))\n",
    "            AP_number = np.shape(V_peaks)[0]\n",
    "            AP_firingFrequency = AP_number/commandDuration\n",
    "\n",
    "            #Find firing frequency adaptation\n",
    "            if np.shape(V_peaks)[0] >= 3:\n",
    "\n",
    "                #Simon's method\n",
    "                adaptationWindow = 0.1\n",
    "                spikeN_i = np.count_nonzero((V_peaks) < adaptationWindow*sr)\n",
    "                spikeN_f = np.count_nonzero(((V_peaks) > (commandDuration-adaptationWindow)*sr) & ((V_peaks) < commandDuration*sr))\n",
    "                if spikeN_i != 0:\n",
    "                    AP_adaptationIndexLast = (spikeN_i-spikeN_f)/spikeN_i*100\n",
    "\n",
    "                # Scala et al., 2020 method: ratio between second inter-spike interval and first interspike interval\n",
    "                AP_adaptationIndexSecond = (V_peaks[2]-V_peaks[1])/(V_peaks[1]-V_peaks[0])\n",
    "\n",
    "            # Action potential features\n",
    "            if np.shape(V_peaks)[0] in [1,2,3]:\n",
    "                V_peaks = V_peaks + I_ON\n",
    "                if np.shape(V_peaks)[0] in [2,3]:\n",
    "                    end_idx = (V_peaks)[1]\n",
    "                else:\n",
    "                    end_idx = I_OFF\n",
    "                \n",
    "                if V_peaks[0] < int(.45*sr)+I_ON: #Spike has to start in the first 450 ms from I_ON\n",
    "                    AP_window_start = int(0.005*sr)  # Before AP peak\n",
    "                    AP_window = np.arange(V_peaks[0]-AP_window_start,end_idx)\n",
    "                    AP_threshold, AP_spikeHeight, AP_halfWidth, AP_fAHP = IntrinsicProfile_Analyse_Spike(V[AP_window], t[AP_window], sr, AP_window_start, plotting)  \n",
    "\n",
    "\n",
    "    return [commandDuration, I_command, RMP, V_SS, V_Ih, AP_number, AP_firingFrequency, AP_threshold, AP_spikeHeight, AP_halfWidth, AP_fAHP, AP_adaptationIndexLast, AP_adaptationIndexSecond, Tau, Rin]"
   ]
  },
  {
   "cell_type": "code",
   "execution_count": 120,
   "metadata": {},
   "outputs": [],
   "source": [
    "def IntrinsicProfile_Analyse_Spike(V, t, sr, spikeIdx, plotting = False):\n",
    "    \n",
    "    # AP threshold: first derivative method, 10mV/ms cut-off\n",
    "    thresholdCutOff = 10 #mV/ms\n",
    "    dV = np.diff(V,n=1,prepend=[V[0]])\n",
    "    dV=dV/((1/sr)*10**3) # Convert to mv/ms\n",
    "    dV_peaks, _ = signal.find_peaks(dV,height=20)\n",
    "    \n",
    "    if dV_peaks.shape[0]==0: # Spike found if its derivative peak > 20 mV/ms, otherwise return NaNs\n",
    "        AP_threshold = np.nan\n",
    "        AP_spikeHeight = np.nan \n",
    "        AP_halfWidth = np.nan\n",
    "        AP_fAHP = np.nan\n",
    "    \n",
    "    else:\n",
    "        #  AP threshold\n",
    "        dV_peaks = dV_peaks[0] #Select first spike    \n",
    "        Th_idx = np.argmin(np.array(abs(dV[:dV_peaks]-thresholdCutOff)))\n",
    "        AP_threshold = V[Th_idx]\n",
    "\n",
    "        #  AP height\n",
    "        AP_peakHeight = V[spikeIdx]\n",
    "        AP_spikeHeight = AP_peakHeight-AP_threshold\n",
    "\n",
    "        # AP half-width\n",
    "        AP_halfHeigth = AP_spikeHeight/2\n",
    "        endIdx = spikeIdx+int(0.02*sr)\n",
    "        Half_Start = np.argmin(np.array(abs(V[Th_idx:spikeIdx]-(AP_peakHeight-AP_halfHeigth)))) + Th_idx\n",
    "        Half_End = np.argmin(np.array(abs(V[spikeIdx:endIdx]-(AP_peakHeight-AP_halfHeigth)))) + spikeIdx\n",
    "        AP_halfWidth = t[Half_End]-t[Half_Start]\n",
    "\n",
    "        # Fast AHP (fAHP) amplitude\n",
    "        fAHP_idx = np.argmin(V[spikeIdx:])+spikeIdx\n",
    "        AP_fAHP = AP_threshold - V[fAHP_idx]\n",
    "\n",
    "        #Plot AP and points of interest\n",
    "        if plotting:\n",
    "            plt.figure()\n",
    "            plt.plot(t,V,'k')\n",
    "            plt.plot(t[spikeIdx],V[spikeIdx],'rx')\n",
    "            plt.plot(t[Th_idx],V[Th_idx],'rx')\n",
    "            plt.plot(t[Half_Start],V[Half_Start],'bx')\n",
    "            plt.plot(t[Half_End],V[Half_End],'bx')\n",
    "            plt.plot(t[fAHP_idx],V[fAHP_idx],'bx')\n",
    "            plt.xlim([t[spikeIdx]-0.005,t[spikeIdx]+0.05])\n",
    "\n",
    "    return(AP_threshold, AP_spikeHeight, AP_halfWidth, AP_fAHP)"
   ]
  },
  {
   "cell_type": "code",
   "execution_count": 121,
   "metadata": {},
   "outputs": [],
   "source": [
    "def IntrinsicProfiles_ExtractFeatures(data, plotting = False):\n",
    "    # Obtain data\n",
    "    V = data[\"Voltage\"]\n",
    "    I = data[\"Current\"]\n",
    "    t = data[\"Time\"]\n",
    "    sr = data[\"SamplingRate\"]\n",
    "    \n",
    "    # Analyse sweeps \n",
    "    cols=['CurrentDuration','CurrentAmplitude','RMP','VoltageSteadyState','VoltageSag','ActionPotentialNumber','FiringFrequency','SpikeThreshold','SpikeHeight','SpikeHalfWidth','SpikeAHP','AdaptationIndexLast','AdaptationIndexSecond','Tau','Rin']\n",
    "    tmpResults=pd.DataFrame(columns=cols)\n",
    "    for sweep in range(V.shape[0]):\n",
    "        tmpResults.loc[len(tmpResults), :] = IntrinsicProfile_AnalyseSweep(V[sweep,:], I[sweep,:], t, sr, plotting)\n",
    "    tmpResults[cols] = tmpResults[cols].astype(float)  \n",
    "    \n",
    "    return tmpResults.to_dict(orient='list')"
   ]
  },
  {
   "cell_type": "code",
   "execution_count": 124,
   "metadata": {},
   "outputs": [],
   "source": [
    "def IntrinsicProfiles_SelectFeatures(cellTable, IPdata, IPresults, plotting = False, plottingFolder = np.nan):  \n",
    "    np.warnings.filterwarnings('ignore')\n",
    "\n",
    "    #Input\n",
    "    V = IPdata[\"Voltage\"]\n",
    "    I = IPdata[\"Current\"]\n",
    "    t = IPdata[\"Time\"]\n",
    "    sr = IPdata[\"SamplingRate\"]\n",
    "    \n",
    "    CurrentDuration = np.array(IPresults[\"CurrentDuration\"])\n",
    "    CurrentAmplitude = np.array(IPresults[\"CurrentAmplitude\"])\n",
    "    RMP = np.array(IPresults[\"RMP\"])\n",
    "    VoltageSteadyState = np.array(IPresults[\"VoltageSteadyState\"])\n",
    "    VoltageSag = np.array(IPresults[\"VoltageSag\"])\n",
    "    ActionPotentialNumber = np.array(IPresults[\"ActionPotentialNumber\"])\n",
    "    FiringFrequency = np.array(IPresults[\"FiringFrequency\"])\n",
    "    SpikeThreshold = np.array(IPresults[\"SpikeThreshold\"])\n",
    "    SpikeHeight = np.array(IPresults[\"SpikeHeight\"])\n",
    "    SpikeHalfWidth = np.array(IPresults[\"SpikeHalfWidth\"])\n",
    "    SpikeAHP = np.array(IPresults[\"SpikeAHP\"])\n",
    "    AdaptationIndexLast = np.array(IPresults[\"AdaptationIndexLast\"])\n",
    "    AdaptationIndexSecond = np.array(IPresults[\"AdaptationIndexSecond\"])\n",
    "    Tau = np.array(IPresults[\"Tau\"])\n",
    "    Rin = np.array(IPresults[\"Rin\"])\n",
    "    RMP = np.array(IPresults[\"RMP\"])\n",
    "    \n",
    "    # Firing\n",
    "    MaxFiringFrequency = np.nanmax(FiringFrequency)\n",
    "    AdaptationIndex = np.median(np.array(AdaptationIndexSecond[ActionPotentialNumber>=3])[:5])\n",
    "    \n",
    "    # RMP and Rin\n",
    "    xRin = CurrentAmplitude[(CurrentAmplitude >= -200) & (CurrentAmplitude < 0)]\n",
    "    yRin = VoltageSteadyState[(CurrentAmplitude >= -200) & (CurrentAmplitude < 0)]\n",
    "\n",
    "    slopeRin, interceptRin = np.polyfit(xRin, yRin, 1)\n",
    "    xRin_fit = np.arange(-150, 50, 10)\n",
    "    yRin_fit = slopeRin*xRin_fit + interceptRin\n",
    "    \n",
    "    if interceptRin < -45:\n",
    "        RMP = interceptRin # mV\n",
    "    else:\n",
    "        RMP=np.median(RMP[:10])\n",
    "    \n",
    "    if (slopeRin*1000) > 0:\n",
    "        Rin = slopeRin*1000 # MOhm\n",
    "    else:\n",
    "        Rin = Rin[~np.isnan(Rin)]\n",
    "        Rin = Rin[-1]\n",
    "    \n",
    "    # Rheobase\n",
    "    xRheobase = np.array(CurrentAmplitude[ActionPotentialNumber > 0])[:5]\n",
    "    yRheobase = np.array(FiringFrequency[ActionPotentialNumber > 0])[:5]\n",
    "    \n",
    "    slopeRheobase, interceptRheobase = np.polyfit(xRheobase, yRheobase, 1)\n",
    "    xRheobase_fit = np.arange(10, max(xRheobase), 10)\n",
    "    yRheobase_fit = slopeRheobase*xRheobase_fit + interceptRheobase\n",
    "    \n",
    "    Rheobase = -interceptRheobase/slopeRheobase #pA   \n",
    "    if (Rheobase < 5) | (Rheobase > 3000):\n",
    "        Rheobase = xRheobase[0]\n",
    "    \n",
    "    # Voltage sag\n",
    "    VoltageSag = VoltageSag[np.nanargmin(abs(VoltageSteadyState+100))]\n",
    "    \n",
    "    # Spike features\n",
    "    AP_Threshold = SpikeThreshold[~np.isnan(SpikeThreshold)][0]\n",
    "    AP_Height = SpikeHeight[~np.isnan(SpikeThreshold)][0]\n",
    "    AP_HalfWidth = SpikeHalfWidth[~np.isnan(SpikeThreshold)][0]\n",
    "    AP_AHP = SpikeAHP[~np.isnan(SpikeThreshold)][0]\n",
    "    if AP_AHP < 0:\n",
    "        AP_AHP=0\n",
    "    \n",
    "    #Tau\n",
    "    Tau = Tau[~np.isnan(Tau)]\n",
    "    if np.shape(Tau)[0]==0:\n",
    "        Tau = np.nan\n",
    "    else:\n",
    "        Tau=Tau[-1]\n",
    "    \n",
    "#############################################################################################################################################################\n",
    "    if plotting:\n",
    "        #### Make figure\n",
    "        assert type(plottingFolder)==str, \"Error: Provide plotting folder\"\n",
    "\n",
    "        # Select sweeps to plot\n",
    "        indexdV = np.nanargmin(np.array((abs(ActionPotentialNumber-10))))\n",
    "        singleSpikeIdx = np.nonzero(ActionPotentialNumber>0)[0][0]\n",
    "        maxSpikeIdx = np.nanargmax(FiringFrequency)\n",
    "        sagIdx = np.nanargmin(VoltageSteadyState+100)\n",
    "\n",
    "        fig = plt.figure(figsize=[20, 20])\n",
    "        gs = gridspec.GridSpec(7, 2)\n",
    "        plt.suptitle(cellTable.CellID.item() + ' - ' + cellTable.CellTarget.item() + '-' + cellTable.CellType.item() + ' - L' +str(int(cellTable.CellLayer.item())), fontsize=30)\n",
    "\n",
    "        ax1 = plt.subplot(gs[0:3, 0])\n",
    "        ax1.plot(t,V[maxSpikeIdx,:],'k')\n",
    "        ax1.set_xlim((1, 1.8))\n",
    "        ax1.set_ylim((-110, 30))\n",
    "        plt.axis('off')\n",
    "\n",
    "        ax2 = plt.subplot(gs[3:6, 0])\n",
    "        ax2.plot(t,V[singleSpikeIdx,:],'k')\n",
    "        ax2.plot(t,V[sagIdx,:],'k')\n",
    "        ax2.plot((1.6, 1.8), (-100, -100),'k', linewidth=3)\n",
    "        ax2.plot((1.6, 1.6), (-100, -70),'k', linewidth=3)\n",
    "        plt.text(1.61, -87, '30 mV', fontsize=20)\n",
    "        plt.text(1.64, -108, '200 ms', fontsize=20)\n",
    "\n",
    "        ax2.set_xlim((1, 1.8))\n",
    "        ax2.set_ylim((-110, 30))\n",
    "        plt.axis('off')\n",
    "\n",
    "        ax3 = plt.subplot(gs[6, 0])\n",
    "        ax3.plot(t, I[singleSpikeIdx,:],'k')\n",
    "        ax3.plot(t, I[sagIdx,:],'k')\n",
    "        ax3.plot(t, I[maxSpikeIdx,:],'k')\n",
    "        ax3.set_xlim((1, 1.8))\n",
    "        ax3.plot((1.6, 1.6), (30, 50),'k', linewidth=3)\n",
    "        plt.text(1.61, 34, '20 pA', fontsize=20)\n",
    "\n",
    "        plt.axis('off')\n",
    "\n",
    "        ax4 = plt.subplot(gs[0:4, 1])\n",
    "        ax4.plot(CurrentAmplitude[CurrentAmplitude>=0], FiringFrequency[CurrentAmplitude>=0], 'ko')\n",
    "        ax4.set_xlabel('Current (pA)', fontsize=20)\n",
    "        ax4.set_ylim((0, np.nanmax(FiringFrequency)+5))\n",
    "        ax4.set_ylabel('Firing Frequency (Hz)', fontsize=20)\n",
    "        ax4.tick_params(axis='both', which='major', labelsize=20)\n",
    "        ax4.spines['right'].set_visible(False)\n",
    "        ax4.spines['top'].set_visible(False)\n",
    "        ax4.spines['left'].set_linewidth(3)\n",
    "        ax4.spines['bottom'].set_linewidth(3)\n",
    "        ax4.xaxis.set_tick_params(width=3, length=10)\n",
    "        ax4.yaxis.set_tick_params(width=3, length=10)\n",
    "        plt.text(50,1,'RMP='+str(RMP.round())+' mV\\nRin='+str(Rin.round())+' MOhm\\nRheobase='+str(Rheobase.round())+' pA',fontsize = 20)\n",
    "        \n",
    "        ax5 = plt.subplot(gs[4:,1])\n",
    "        ax5.plot(V[indexdV,:], np.diff(V[indexdV,:], prepend = V[indexdV,0] ), 'k-')\n",
    "        ax5.set_ylabel('dV/dt', fontsize=20)\n",
    "        ax5.set_xlabel('Voltage (mV)', fontsize=20)\n",
    "        ax5.spines['left'].set_linewidth(3)\n",
    "        ax5.spines['bottom'].set_linewidth(3)\n",
    "        ax5.spines['top'].set_visible(False)\n",
    "        ax5.spines['right'].set_visible(False)\n",
    "        ax5.xaxis.set_tick_params(width=3, length=10)\n",
    "        ax5.yaxis.set_tick_params(width=3, length=10)\n",
    "        ax5.tick_params(axis='both', which='major', labelsize=20)\n",
    "        ax5.tick_params(axis='y')\n",
    "\n",
    "\n",
    "#         #### Rin and RMP plot\n",
    "#         ax5 = plt.subplot(gs[4:,1])\n",
    "#         ax5.plot(xRin, yRin, 'ro')\n",
    "#         ax5.plot(xRin_fit, yRin_fit, 'k--')\n",
    "#         ax5.plot([0, 0], [-500, 500], 'k', linewidth=0.5)\n",
    "#         ax5.set_ylabel('Steady-state Vm (mV)', fontsize=20, color='r')\n",
    "#         ax5.set_xlabel('Current (pA)', fontsize=20)\n",
    "#         ax5.spines['left'].set_linewidth(3)\n",
    "#         ax5.spines['bottom'].set_linewidth(3)\n",
    "#         ax5.spines['top'].set_visible(False)\n",
    "#         ax5.xaxis.set_tick_params(width=3, length=10)\n",
    "#         ax5.yaxis.set_tick_params(width=3, length=10)\n",
    "#         ax5.tick_params(axis='both', which='major', labelsize=20)\n",
    "#         ax5.tick_params(axis='y', labelcolor='r')\n",
    "#         ax5.set_ylim((yRin.min(), yRin.max()+10))\n",
    "\n",
    "#         ax6 = ax5.twinx()  # instantiate a second axes that shares the same x-axis\n",
    "#         ax6.plot(xRheobase, yRheobase, 'bo')\n",
    "#         ax6.plot(xRheobase_fit, yRheobase_fit, 'k--')\n",
    "#         ax6.plot([-500, 500], [0, 0], 'k', linewidth=0.5)\n",
    "#         ax6.set_ylabel('Firing Frequency (Hz)', fontsize=20, color='b')\n",
    "#         ax6.spines['right'].set_linewidth(3)\n",
    "#         ax6.spines['top'].set_visible(False)\n",
    "#         ax6.xaxis.set_tick_params(width=3, length=10)\n",
    "#         ax6.yaxis.set_tick_params(width=3, length=10)\n",
    "#         ax6.tick_params(axis='both', which='major', labelsize=20)\n",
    "#         ax6.tick_params(axis='y', labelcolor='b')\n",
    "#         ax6.set_xlim((-100, xRheobase.max()+5))\n",
    "#         ax6.set_ylim((-1, yRheobase.max()+2))\n",
    "\n",
    "        gs.update(hspace = 0.5, wspace =0.2)\n",
    "\n",
    "        plt.savefig(os.path.join(outputFolder,cellTable.CellID.item()+'.pdf'), format='pdf', transparent=True)\n",
    "        plt.savefig(os.path.join(outputFolder,cellTable.CellID.item()+'.tif'), format='tif', transparent=True)\n",
    "        plt.close()\n",
    "        \n",
    "#############################################################################################################################################################\n",
    "\n",
    "    if cellTable.MouseEyesOpen.item() == 1:\n",
    "        MouseDevelopment = 'P14-P18'\n",
    "    else:\n",
    "        if cellTable.MouseAge.item() <= 8:\n",
    "            MouseDevelopment = 'P5-P8'\n",
    "        elif (cellTable.MouseAge.item() >= 9) & (cellTable.MouseAge.item() <= 13):\n",
    "            MouseDevelopment = 'P9-P13'\n",
    "    \n",
    "    #Make output\n",
    "    f = {\n",
    "        \"MouseID\": cellTable.MouseID.item(),\n",
    "        \"MouseAge\": cellTable.MouseAge.item(),\n",
    "        \"MouseDevelopment\": MouseDevelopment,\n",
    "        \"BrainArea\": cellTable.BrainArea.item(),\n",
    "        \"CellID\": cellTable.CellID.item(),\n",
    "        \"CellTarget\": cellTable.CellTarget.item(),\n",
    "        \"CellType\": cellTable.CellType.item(),\n",
    "        \"CellLayer\": cellTable.CellLayer.item(),\n",
    "        \"Rin\": Rin,\n",
    "        \"RMP\": RMP,\n",
    "        \"Tau\": Tau,\n",
    "        \"Rheobase\": Rheobase,\n",
    "        \"MaxFiringFrequency\": MaxFiringFrequency,\n",
    "        \"AdaptationIndex\": AdaptationIndex,\n",
    "        \"VoltageSag\": VoltageSag,\n",
    "        \"AP_Threshold\": AP_Threshold,\n",
    "        \"AP_Height\": AP_Height,\n",
    "        \"AP_HalfWidth\": AP_HalfWidth,\n",
    "        \"AP_AHP\": AP_AHP\n",
    "    } \n",
    "    \n",
    "    np.warnings.filterwarnings('default')\n",
    "\n",
    "    return f"
   ]
  },
  {
   "cell_type": "code",
   "execution_count": 125,
   "metadata": {},
   "outputs": [
    {
     "name": "stdout",
     "output_type": "stream",
     "text": [
      "MJ0.1: Analysing... 20o15000.abf\n",
      "MJ1.1: Analysing... 20o21001.abf\n",
      "MJ11.2: Analysing... 20o30004.abf\n",
      "MJ15.1: Analysing... 20n02001.abf\n",
      "MJ17.1: Analysing... 20n04001.abf\n",
      "MJ17.2: Analysing... 20n04012.abf\n",
      "MJ17.3: Analysing... 20n04029.abf\n",
      "MJ19.1: Analysing... 20n05005.abf\n",
      "MJ21.1: Analysing... 20n09000.abf\n",
      "MJ22.1: Analysing... 20n09010.abf\n",
      "MJ25.1: Analysing... 20n11005.abf\n",
      "MJ26.1: Analysing... 20n12001.abf\n",
      "MJ30.1: Analysing... 20n18001.abf\n",
      "MJ30.2: Analysing... 20n18007.abf\n",
      "MJ30.3: Analysing... 20n18010.abf\n",
      "MJ31.1: Analysing... 20n19000.abf\n",
      "MJ31.2: Analysing... 20n19004.abf\n",
      "MJ31.3: Analysing... 20n19012.abf\n",
      "MJ32.1: Analysing... 20n20001.abf\n",
      "MJ32.2: Analysing... 20n20005.abf\n",
      "MJ32.3: Analysing... 20n20010.abf\n",
      "MJ33.1: Analysing... 20n23001.abf\n",
      "MJ33.3: Analysing... 20n23009.abf\n",
      "MJ33.4: Analysing... 20n23014.abf\n",
      "MJ37.1: Analysing... 20n24006.abf\n",
      "MJ37.2: Analysing... 20n24010.abf\n",
      "MJ37.3: Analysing... 20n24014.abf\n",
      "MJ39.1: Analysing... 20n25001.abf\n",
      "MJ39.2: Analysing... 20n25007.abf\n",
      "MJ39.3: Analysing... 20n25011.abf\n",
      "MJ41.1: Analysing... 21216001.abf\n",
      "MJ41.2: Analysing... 21216009.abf\n",
      "MJ41.3: Analysing... 21216013.abf\n",
      "MJ41.4: Analysing... 21216017.abf\n",
      "MJ44.1: Analysing... 21218003.abf\n",
      "MJ44.2: Analysing... 21218010.abf\n",
      "MJ44.3: Analysing... 21218019.abf\n",
      "MJ47.1: Analysing... 21219001.abf\n",
      "MJ47.2: Analysing... 21219006.abf\n",
      "MJ47.3: Analysing... 21219008.abf\n",
      "MJ47.4: Analysing... 21219012.abf\n",
      "MJ48.2: Analysing... 21222009.abf\n",
      "MJ48.3: Analysing... 21222013.abf\n",
      "MJ48.4: Analysing... 21222016.abf\n",
      "MJ48.5: Analysing... 21222021.abf\n",
      "MJ48.6: Analysing... 21222030.abf\n",
      "MJ49.1: Analysing... 21225002.abf\n",
      "MJ49.2: Analysing... 21225008.abf\n",
      "MJ49.4: Analysing... 21225016.abf\n",
      "MJ5.1: Analysing... 20o23001.abf\n",
      "MJ7.1: Analysing... 20o28000.abf\n",
      "MJ7.2: Analysing... 20o28002.abf\n",
      "MJ9.1: Analysing... 20o29001.abf\n",
      "OLL1.2: Analysing... 20n04029.abf\n",
      "OLL12.1: Analysing... 21125001.abf\n",
      "OLL12.3: Analysing... 21125014.abf\n",
      "OLL12.4: Analysing... 21125024.abf\n"
     ]
    },
    {
     "name": "stderr",
     "output_type": "stream",
     "text": [
      "C:\\Users\\Butt Lab\\Anaconda3\\lib\\site-packages\\numpy\\core\\fromnumeric.py:3118: RuntimeWarning: Mean of empty slice.\n",
      "  out=out, **kwargs)\n",
      "C:\\Users\\Butt Lab\\Anaconda3\\lib\\site-packages\\numpy\\core\\_methods.py:85: RuntimeWarning: invalid value encountered in double_scalars\n",
      "  ret = ret.dtype.type(ret / rcount)\n"
     ]
    },
    {
     "name": "stdout",
     "output_type": "stream",
     "text": [
      "OLL12.5: Analysing... 21125032.abf\n"
     ]
    },
    {
     "name": "stderr",
     "output_type": "stream",
     "text": [
      "C:\\Users\\Butt Lab\\Anaconda3\\lib\\site-packages\\numpy\\core\\fromnumeric.py:3118: RuntimeWarning: Mean of empty slice.\n",
      "  out=out, **kwargs)\n",
      "C:\\Users\\Butt Lab\\Anaconda3\\lib\\site-packages\\numpy\\core\\_methods.py:85: RuntimeWarning: invalid value encountered in double_scalars\n",
      "  ret = ret.dtype.type(ret / rcount)\n"
     ]
    },
    {
     "name": "stdout",
     "output_type": "stream",
     "text": [
      "OLL13.1: Analysing... 21305001.abf\n",
      "OLL13.2: Analysing... 21305011.abf\n",
      "OLL13.3: Analysing... 21305019.abf\n",
      "OLL13.4: Analysing... 21305025.abf\n",
      "OLL13.5: Analysing... 21305034.abf\n",
      "OLL13.6: Analysing... 21305039.abf\n",
      "OLL14.1: Analysing... 21315002.abf\n",
      "OLL14.2: Analysing... 21315008.abf\n",
      "OLL14.3: Analysing... 21315017.abf\n",
      "OLL14.4: Analysing... 21315023.abf\n",
      "OLL15.1: Analysing... 21317001.abf\n",
      "OLL15.2: Analysing... 21317008.abf\n",
      "OLL15.3: Analysing... 21317015.abf\n",
      "OLL15.4: Analysing... 21317018.abf\n",
      "OLL15.5: Analysing... 21317030.abf\n",
      "OLL15.6: Analysing... 21317032.abf\n",
      "OLL15.7: Analysing... 21317039.abf\n",
      "OLL15.8: Analysing... 21317046.abf\n",
      "OLL16.1: Analysing... 21322004.abf\n",
      "OLL16.2: Analysing... 21322013.abf\n",
      "OLL16.3: Analysing... 21322020.abf\n",
      "OLL16.4: Analysing... 21322028.abf\n",
      "OLL18.1: Analysing... 21325001.abf\n",
      "OLL18.2: Analysing... 21325010.abf\n",
      "OLL18.3: Analysing... 21325016.abf\n",
      "OLL18.4: Analysing... 21325022.abf\n",
      "OLL18.5: Analysing... 21325031.abf\n",
      "OLL19.1: Analysing... 21326001.abf\n",
      "OLL19.10: Analysing... 21326058.abf\n",
      "OLL19.2: Analysing... 21326009.abf\n",
      "OLL19.3: Analysing... 21326015.abf\n",
      "OLL19.4: Analysing... 21326021.abf\n",
      "OLL19.5: Analysing... 21326028.abf\n",
      "OLL19.6: Analysing... 21326034.abf\n",
      "OLL19.7: Analysing... 21326041.abf\n",
      "OLL19.8: Analysing... 21326048.abf\n",
      "OLL19.9: Analysing... 21326053.abf\n",
      "OLL20.1: Analysing... 21329001.abf\n",
      "OLL20.2: Analysing... 21329011.abf\n",
      "OLL20.3: Analysing... 21329019.abf\n",
      "OLL20.4: Analysing... 21329024.abf\n",
      "OLL20.5: Analysing... 21329030.abf\n",
      "OLL21.1: Analysing... 21331001.abf\n",
      "OLL21.2: Analysing... 21331008.abf\n",
      "OLL21.3: Analysing... 21331015.abf\n",
      "OLL21.4: Analysing... 21331020.abf\n",
      "OLL22.1: Analysing... 21331026.abf\n",
      "OLL22.2: Analysing... 21331034.abf\n"
     ]
    },
    {
     "name": "stderr",
     "output_type": "stream",
     "text": [
      "C:\\Users\\Butt Lab\\Anaconda3\\lib\\site-packages\\numpy\\core\\fromnumeric.py:3118: RuntimeWarning: Mean of empty slice.\n",
      "  out=out, **kwargs)\n",
      "C:\\Users\\Butt Lab\\Anaconda3\\lib\\site-packages\\numpy\\core\\_methods.py:85: RuntimeWarning: invalid value encountered in double_scalars\n",
      "  ret = ret.dtype.type(ret / rcount)\n"
     ]
    },
    {
     "name": "stdout",
     "output_type": "stream",
     "text": [
      "OLL22.3: Analysing... 21331041.abf\n",
      "OLL23.1: Analysing... 21406001.abf\n",
      "OLL23.2: Analysing... 21406007.abf\n",
      "OLL23.3: Analysing... 21406026.abf\n",
      "OLL23.4: Analysing... 21406033.abf\n",
      "OLL24.1: Analysing... 21406013.abf\n",
      "OLL24.2: Analysing... 21406021.abf\n",
      "OLL24.3: Analysing... 21406039.abf\n",
      "OLL24.4: Analysing... 21406045.abf\n",
      "OLL25.1: Analysing... 21408001.abf\n",
      "OLL25.2: Analysing... 21408008.abf\n",
      "OLL25.3: Analysing... 21408013.abf\n",
      "OLL26.1: Analysing... 21408024.abf\n",
      "OLL26.2: Analysing... 21408027.abf\n",
      "OLL26.3: Analysing... 21408033.abf\n",
      "OLL27.1: Analysing... 21414001.abf\n"
     ]
    },
    {
     "name": "stderr",
     "output_type": "stream",
     "text": [
      "C:\\Users\\Butt Lab\\Anaconda3\\lib\\site-packages\\numpy\\core\\fromnumeric.py:3118: RuntimeWarning: Mean of empty slice.\n",
      "  out=out, **kwargs)\n",
      "C:\\Users\\Butt Lab\\Anaconda3\\lib\\site-packages\\numpy\\core\\_methods.py:85: RuntimeWarning: invalid value encountered in double_scalars\n",
      "  ret = ret.dtype.type(ret / rcount)\n"
     ]
    },
    {
     "name": "stdout",
     "output_type": "stream",
     "text": [
      "OLL27.5: Analysing... 21414021.abf\n",
      "OLL27.6: Analysing... 21414027.abf\n"
     ]
    },
    {
     "name": "stderr",
     "output_type": "stream",
     "text": [
      "C:\\Users\\Butt Lab\\Anaconda3\\lib\\site-packages\\numpy\\core\\fromnumeric.py:3118: RuntimeWarning: Mean of empty slice.\n",
      "  out=out, **kwargs)\n",
      "C:\\Users\\Butt Lab\\Anaconda3\\lib\\site-packages\\numpy\\core\\_methods.py:85: RuntimeWarning: invalid value encountered in double_scalars\n",
      "  ret = ret.dtype.type(ret / rcount)\n"
     ]
    },
    {
     "name": "stdout",
     "output_type": "stream",
     "text": [
      "OLL28.1: Analysing... 21419003.abf\n",
      "OLL28.2: Analysing... 21419011.abf\n"
     ]
    },
    {
     "name": "stderr",
     "output_type": "stream",
     "text": [
      "C:\\Users\\Butt Lab\\Anaconda3\\lib\\site-packages\\numpy\\core\\fromnumeric.py:3118: RuntimeWarning: Mean of empty slice.\n",
      "  out=out, **kwargs)\n",
      "C:\\Users\\Butt Lab\\Anaconda3\\lib\\site-packages\\numpy\\core\\_methods.py:85: RuntimeWarning: invalid value encountered in double_scalars\n",
      "  ret = ret.dtype.type(ret / rcount)\n"
     ]
    },
    {
     "name": "stdout",
     "output_type": "stream",
     "text": [
      "OLL28.3: Analysing... 21419016.abf\n",
      "OLL28.4: Analysing... 21419023.abf\n"
     ]
    },
    {
     "name": "stderr",
     "output_type": "stream",
     "text": [
      "C:\\Users\\Butt Lab\\Anaconda3\\lib\\site-packages\\numpy\\core\\fromnumeric.py:3118: RuntimeWarning: Mean of empty slice.\n",
      "  out=out, **kwargs)\n",
      "C:\\Users\\Butt Lab\\Anaconda3\\lib\\site-packages\\numpy\\core\\_methods.py:85: RuntimeWarning: invalid value encountered in double_scalars\n",
      "  ret = ret.dtype.type(ret / rcount)\n"
     ]
    },
    {
     "name": "stdout",
     "output_type": "stream",
     "text": [
      "OLL28.5: Analysing... 21419029.abf\n"
     ]
    },
    {
     "name": "stderr",
     "output_type": "stream",
     "text": [
      "C:\\Users\\Butt Lab\\Anaconda3\\lib\\site-packages\\numpy\\core\\fromnumeric.py:3118: RuntimeWarning: Mean of empty slice.\n",
      "  out=out, **kwargs)\n",
      "C:\\Users\\Butt Lab\\Anaconda3\\lib\\site-packages\\numpy\\core\\_methods.py:85: RuntimeWarning: invalid value encountered in double_scalars\n",
      "  ret = ret.dtype.type(ret / rcount)\n"
     ]
    },
    {
     "name": "stdout",
     "output_type": "stream",
     "text": [
      "OLL28.6: Analysing... 21419034.abf\n",
      "OLL28.7: Analysing... 21419040.abf\n"
     ]
    },
    {
     "name": "stderr",
     "output_type": "stream",
     "text": [
      "C:\\Users\\Butt Lab\\Anaconda3\\lib\\site-packages\\numpy\\core\\fromnumeric.py:3118: RuntimeWarning: Mean of empty slice.\n",
      "  out=out, **kwargs)\n",
      "C:\\Users\\Butt Lab\\Anaconda3\\lib\\site-packages\\numpy\\core\\_methods.py:85: RuntimeWarning: invalid value encountered in double_scalars\n",
      "  ret = ret.dtype.type(ret / rcount)\n"
     ]
    },
    {
     "name": "stdout",
     "output_type": "stream",
     "text": [
      "OLL28.8: Analysing... 21419045.abf\n",
      "OLL29.1: Analysing... 21423004.abf\n",
      "OLL29.2: Analysing... 21423011.abf\n",
      "OLL29.3: Analysing... 21423018.abf\n"
     ]
    },
    {
     "name": "stderr",
     "output_type": "stream",
     "text": [
      "C:\\Users\\Butt Lab\\Anaconda3\\lib\\site-packages\\numpy\\core\\fromnumeric.py:3118: RuntimeWarning: Mean of empty slice.\n",
      "  out=out, **kwargs)\n",
      "C:\\Users\\Butt Lab\\Anaconda3\\lib\\site-packages\\numpy\\core\\_methods.py:85: RuntimeWarning: invalid value encountered in double_scalars\n",
      "  ret = ret.dtype.type(ret / rcount)\n",
      "C:\\Users\\Butt Lab\\Anaconda3\\lib\\site-packages\\numpy\\core\\fromnumeric.py:3118: RuntimeWarning: Mean of empty slice.\n",
      "  out=out, **kwargs)\n",
      "C:\\Users\\Butt Lab\\Anaconda3\\lib\\site-packages\\numpy\\core\\_methods.py:85: RuntimeWarning: invalid value encountered in double_scalars\n",
      "  ret = ret.dtype.type(ret / rcount)\n"
     ]
    },
    {
     "name": "stdout",
     "output_type": "stream",
     "text": [
      "OLL29.4: Analysing... 21423024.abf\n",
      "OLL29.5: Analysing... 21423031.abf\n",
      "OLL29.6: Analysing... 21423043.abf\n",
      "OLL29.7: Analysing... 21423045.abf\n",
      "OLL29.8: Analysing... 21423050.abf\n",
      "OLL30.1: Analysing... 21428001.abf\n",
      "OLL30.2: Analysing... 21428014.abf\n",
      "OLL30.3: Analysing... 21428026.abf\n",
      "OLL31.1: Analysing... 21609002.abf\n"
     ]
    },
    {
     "name": "stderr",
     "output_type": "stream",
     "text": [
      "C:\\Users\\Butt Lab\\Anaconda3\\lib\\site-packages\\numpy\\core\\fromnumeric.py:3118: RuntimeWarning: Mean of empty slice.\n",
      "  out=out, **kwargs)\n",
      "C:\\Users\\Butt Lab\\Anaconda3\\lib\\site-packages\\numpy\\core\\_methods.py:85: RuntimeWarning: invalid value encountered in double_scalars\n",
      "  ret = ret.dtype.type(ret / rcount)\n"
     ]
    },
    {
     "name": "stdout",
     "output_type": "stream",
     "text": [
      "OLL31.2: Analysing... 21609009.abf\n"
     ]
    },
    {
     "name": "stderr",
     "output_type": "stream",
     "text": [
      "C:\\Users\\Butt Lab\\Anaconda3\\lib\\site-packages\\numpy\\core\\fromnumeric.py:3118: RuntimeWarning: Mean of empty slice.\n",
      "  out=out, **kwargs)\n",
      "C:\\Users\\Butt Lab\\Anaconda3\\lib\\site-packages\\numpy\\core\\_methods.py:85: RuntimeWarning: invalid value encountered in double_scalars\n",
      "  ret = ret.dtype.type(ret / rcount)\n"
     ]
    },
    {
     "name": "stdout",
     "output_type": "stream",
     "text": [
      "OLL31.3: Analysing... 21609016.abf\n",
      "OLL31.4: Analysing... 21609021.abf\n",
      "OLL31.5: Analysing... 21609027.abf\n",
      "OLL31.6: Analysing... 21609032.abf\n",
      "OLL5.1: Analysing... 20d07001.abf\n",
      "OLL5.2: Analysing... 20d07006.abf\n",
      "OLL6.1: Analysing... 20d07019.abf\n",
      "OLL6.2: Analysing... 20d07025.abf\n",
      "OLL6.3: Analysing... 20d07033.abf\n",
      "OLL7.1: Analysing... 20d07011.abf\n",
      "SA103.1: Analysing... 20731001.abf\n",
      "SA103.2: Analysing... 20731011.abf\n",
      "SA103.3: Analysing... 20731014.abf\n",
      "SA103.4: Analysing... 20731020.abf\n",
      "SA103.5: Analysing... 20731026.abf\n",
      "SA107.1: Analysing... 20804003.abf\n"
     ]
    },
    {
     "name": "stderr",
     "output_type": "stream",
     "text": [
      "C:\\Users\\Butt Lab\\Anaconda3\\lib\\site-packages\\numpy\\core\\fromnumeric.py:3118: RuntimeWarning: Mean of empty slice.\n",
      "  out=out, **kwargs)\n",
      "C:\\Users\\Butt Lab\\Anaconda3\\lib\\site-packages\\numpy\\core\\_methods.py:85: RuntimeWarning: invalid value encountered in double_scalars\n",
      "  ret = ret.dtype.type(ret / rcount)\n"
     ]
    },
    {
     "name": "stdout",
     "output_type": "stream",
     "text": [
      "SA107.2: Analysing... 20804009.abf\n",
      "SA107.3: Analysing... 20804014.abf\n",
      "SA107.4: Analysing... 20804023.abf\n",
      "SA108.1: Analysing... 20805001.abf\n",
      "SA109.1: Analysing... 20805012.abf\n",
      "SA109.2: Analysing... 20805015.abf\n",
      "SA109.3: Analysing... 20805021.abf\n",
      "SA109.4: Analysing... 20805026.abf\n",
      "SA111.1: Analysing... 20901001.abf\n",
      "SA111.2: Analysing... 20901007.abf\n",
      "SA111.3: Analysing... 20901016.abf\n"
     ]
    },
    {
     "name": "stderr",
     "output_type": "stream",
     "text": [
      "C:\\Users\\Butt Lab\\Anaconda3\\lib\\site-packages\\numpy\\core\\fromnumeric.py:3118: RuntimeWarning: Mean of empty slice.\n",
      "  out=out, **kwargs)\n",
      "C:\\Users\\Butt Lab\\Anaconda3\\lib\\site-packages\\numpy\\core\\_methods.py:85: RuntimeWarning: invalid value encountered in double_scalars\n",
      "  ret = ret.dtype.type(ret / rcount)\n"
     ]
    },
    {
     "name": "stdout",
     "output_type": "stream",
     "text": [
      "SA111.4: Analysing... 20901023.abf\n"
     ]
    },
    {
     "name": "stderr",
     "output_type": "stream",
     "text": [
      "C:\\Users\\Butt Lab\\Anaconda3\\lib\\site-packages\\numpy\\core\\fromnumeric.py:3118: RuntimeWarning: Mean of empty slice.\n",
      "  out=out, **kwargs)\n",
      "C:\\Users\\Butt Lab\\Anaconda3\\lib\\site-packages\\numpy\\core\\_methods.py:85: RuntimeWarning: invalid value encountered in double_scalars\n",
      "  ret = ret.dtype.type(ret / rcount)\n"
     ]
    },
    {
     "name": "stdout",
     "output_type": "stream",
     "text": [
      "SA120.1: Analysing... 20o05011.abf\n",
      "SA120.2: Analysing... 20o05017.abf\n",
      "SA120.3: Analysing... 20o05024.abf\n",
      "SA121.1: Analysing... 20o05004.abf\n",
      "SA122.1: Analysing... 20o06005.abf\n",
      "SA122.2: Analysing... 20o06010.abf\n",
      "SA122.3: Analysing... 20o06029.abf\n",
      "SA122.4: Analysing... 20o06036.abf\n",
      "SA123.1: Analysing... 20o06016.abf\n",
      "SA123.2: Analysing... 20o06022.abf\n",
      "SA129.1: Analysing... 20o09001.abf\n",
      "SA129.2: Analysing... 20o09008.abf\n",
      "SA129.3: Analysing... 20o09014.abf\n",
      "SA130.1: Analysing... 20n02002.abf\n",
      "SA130.2: Analysing... 20n02008.abf\n",
      "SA130.3: Analysing... 20n02014.abf\n",
      "SA130.4: Analysing... 20n02019.abf\n",
      "SA130.5: Analysing... 20n02025.abf\n",
      "SA131.1: Analysing... 20n04002.abf\n",
      "SA131.2: Analysing... 20n04009.abf\n",
      "SA131.3: Analysing... 20n04015.abf\n",
      "SA131.4: Analysing... 20n04020.abf\n",
      "SA132.2: Analysing... 20n04029.abf\n",
      "SA133.1: Analysing... 20n09004.abf\n",
      "SA133.2: Analysing... 20n09012.abf\n",
      "SA133.3: Analysing... 20n09016.abf\n",
      "SA133.5: Analysing... 20n09025.abf\n",
      "SA134.1: Analysing... 20n23004.abf\n",
      "SA134.2: Analysing... 20n23009.abf\n",
      "SA134.3: Analysing... 20n23013.abf\n",
      "SA134.4: Analysing... 20n23019.abf\n",
      "SA134.5: Analysing... 20n23024.abf\n",
      "SA134.6: Analysing... 20n23029.abf\n",
      "SA134.7: Analysing... 20n23034.abf\n",
      "SA134.8: Analysing... 20n23039.abf\n",
      "SA134.9: Analysing... 20n23045.abf\n",
      "SA149.3: Analysing... 21412033.abf\n",
      "SA150.2: Analysing... 21412016.abf\n",
      "SA151.1: Analysing... 21421001.abf\n",
      "SA151.2: Analysing... 21421019.abf\n",
      "SA151.3: Analysing... 21421028.abf\n",
      "SA152.1: Analysing... 21421010.abf\n",
      "SA152.2: Analysing... 21421036.abf\n",
      "SA153.1: Analysing... 21429012.abf\n",
      "SA153.2: Analysing... 21429028.abf\n",
      "SA153.3: Analysing... 21429052.abf\n",
      "SA154.1: Analysing... 21429016.abf\n",
      "SA154.2: Analysing... 21429040.abf\n",
      "SA155.1: Analysing... 21521001.abf\n",
      "SA155.2: Analysing... 21521026.abf\n",
      "SA156.1: Analysing... 21521013.abf\n",
      "SA157.1: Analysing... 21524002.abf\n",
      "SA157.2: Analysing... 21524030.abf\n",
      "SA158.1: Analysing... 21524015.abf\n",
      "SA158.2: Analysing... 21524019.abf\n",
      "SA158.3: Analysing... 21524040.abf\n",
      "SA159.1: Analysing... 21603002.abf\n",
      "SA159.2: Analysing... 21603035.abf\n",
      "SA159.3: Analysing... 21603038.abf\n",
      "SA159.4: Analysing... 21603042.abf\n",
      "SA160.1: Analysing... 21603014.abf\n",
      "SA160.2: Analysing... 21603023.abf\n",
      "SA83.1: Analysing... 20623001.abf\n",
      "SA83.2: Analysing... 20623006.abf\n",
      "SA83.3: Analysing... 20623011.abf\n",
      "SA83.4: Analysing... 20623018.abf\n",
      "SA84.1: Analysing... 20623022.abf\n",
      "SA85.1: Analysing... 20625018.abf\n",
      "SA85.2: Analysing... 20625026.abf\n",
      "SA85.3: Analysing... 20625031.abf\n",
      "SA86.1: Analysing... 20625002.abf\n",
      "SA86.2: Analysing... 20625010.abf\n",
      "SA87.1: Analysing... 20717004.abf\n",
      "SA88.1: Analysing... 20717009.abf\n",
      "SA88.2: Analysing... 20717018.abf\n",
      "SA88.3: Analysing... 20717029.abf\n"
     ]
    },
    {
     "name": "stderr",
     "output_type": "stream",
     "text": [
      "C:\\Users\\Butt Lab\\Anaconda3\\lib\\site-packages\\numpy\\core\\fromnumeric.py:3118: RuntimeWarning: Mean of empty slice.\n",
      "  out=out, **kwargs)\n",
      "C:\\Users\\Butt Lab\\Anaconda3\\lib\\site-packages\\numpy\\core\\_methods.py:85: RuntimeWarning: invalid value encountered in double_scalars\n",
      "  ret = ret.dtype.type(ret / rcount)\n"
     ]
    },
    {
     "name": "stdout",
     "output_type": "stream",
     "text": [
      "SA88.4: Analysing... 20717029.abf\n",
      "SA89.1: Analysing... 20717022.abf\n",
      "SA89.2: Analysing... 20717039.abf\n"
     ]
    },
    {
     "name": "stderr",
     "output_type": "stream",
     "text": [
      "C:\\Users\\Butt Lab\\Anaconda3\\lib\\site-packages\\numpy\\core\\fromnumeric.py:3118: RuntimeWarning: Mean of empty slice.\n",
      "  out=out, **kwargs)\n",
      "C:\\Users\\Butt Lab\\Anaconda3\\lib\\site-packages\\numpy\\core\\_methods.py:85: RuntimeWarning: invalid value encountered in double_scalars\n",
      "  ret = ret.dtype.type(ret / rcount)\n"
     ]
    },
    {
     "name": "stdout",
     "output_type": "stream",
     "text": [
      "SA90.1: Analysing... 20722001.abf\n",
      "SA90.2: Analysing... 20722001.abf\n",
      "SA91.1: Analysing... 20722007.abf\n",
      "SA91.2: Analysing... 20722016.abf\n",
      "SA91.3: Analysing... 20722020.abf\n",
      "SA92.1: Analysing... 20723001.abf\n",
      "SA92.3: Analysing... 20723014.abf\n",
      "SA92.4: Analysing... 20723022.abf\n",
      "SA94.1: Analysing... 20727002.abf\n",
      "SA94.2: Analysing... 20727008.abf\n",
      "SA94.3: Analysing... 20727016.abf\n",
      "SA94.4: Analysing... 20727025.abf\n"
     ]
    },
    {
     "name": "stderr",
     "output_type": "stream",
     "text": [
      "C:\\Users\\Butt Lab\\Anaconda3\\lib\\site-packages\\numpy\\core\\fromnumeric.py:3118: RuntimeWarning: Mean of empty slice.\n",
      "  out=out, **kwargs)\n",
      "C:\\Users\\Butt Lab\\Anaconda3\\lib\\site-packages\\numpy\\core\\_methods.py:85: RuntimeWarning: invalid value encountered in double_scalars\n",
      "  ret = ret.dtype.type(ret / rcount)\n"
     ]
    },
    {
     "name": "stdout",
     "output_type": "stream",
     "text": [
      "SA94.5: Analysing... 20727030.abf\n",
      "SA94.6: Analysing... 20727037.abf\n",
      "SA94.7: Analysing... 20727047.abf\n",
      "SA96.1: Analysing... 20728005.abf\n",
      "SA96.2: Analysing... 20728011.abf\n",
      "SA96.3: Analysing... 20728020.abf\n",
      "SA96.4: Analysing... 20728032.abf\n",
      "SA96.5: Analysing... 20728036.abf\n",
      "SA99.1: Analysing... 20729001.abf\n",
      "SA99.2: Analysing... 20729007.abf\n",
      "SA99.3: Analysing... 20729020.abf\n",
      "SX23.3: Analysing... 20708040.abf\n",
      "SX23.4: Analysing... 20708049.abf\n",
      "SX23.5: Analysing... 20708053.abf\n",
      "SX34.1: Analysing... 20812003.abf\n"
     ]
    },
    {
     "name": "stderr",
     "output_type": "stream",
     "text": [
      "C:\\Users\\Butt Lab\\Anaconda3\\lib\\site-packages\\numpy\\core\\fromnumeric.py:3118: RuntimeWarning: Mean of empty slice.\n",
      "  out=out, **kwargs)\n",
      "C:\\Users\\Butt Lab\\Anaconda3\\lib\\site-packages\\numpy\\core\\_methods.py:85: RuntimeWarning: invalid value encountered in double_scalars\n",
      "  ret = ret.dtype.type(ret / rcount)\n"
     ]
    },
    {
     "name": "stdout",
     "output_type": "stream",
     "text": [
      "SX34.2: Analysing... 20812010.abf\n"
     ]
    },
    {
     "name": "stderr",
     "output_type": "stream",
     "text": [
      "C:\\Users\\Butt Lab\\Anaconda3\\lib\\site-packages\\numpy\\core\\fromnumeric.py:3118: RuntimeWarning: Mean of empty slice.\n",
      "  out=out, **kwargs)\n",
      "C:\\Users\\Butt Lab\\Anaconda3\\lib\\site-packages\\numpy\\core\\_methods.py:85: RuntimeWarning: invalid value encountered in double_scalars\n",
      "  ret = ret.dtype.type(ret / rcount)\n"
     ]
    },
    {
     "name": "stdout",
     "output_type": "stream",
     "text": [
      "SX34.3: Analysing... 20812014.abf\n",
      "SX34.4: Analysing... 20812020.abf\n",
      "SX35.1: Analysing... 20814003.abf\n"
     ]
    },
    {
     "name": "stderr",
     "output_type": "stream",
     "text": [
      "C:\\Users\\Butt Lab\\Anaconda3\\lib\\site-packages\\numpy\\core\\fromnumeric.py:3118: RuntimeWarning: Mean of empty slice.\n",
      "  out=out, **kwargs)\n",
      "C:\\Users\\Butt Lab\\Anaconda3\\lib\\site-packages\\numpy\\core\\_methods.py:85: RuntimeWarning: invalid value encountered in double_scalars\n",
      "  ret = ret.dtype.type(ret / rcount)\n"
     ]
    },
    {
     "name": "stdout",
     "output_type": "stream",
     "text": [
      "SX35.2: Analysing... 20814009.abf\n",
      "SX35.3: Analysing... 20814016.abf\n"
     ]
    },
    {
     "name": "stderr",
     "output_type": "stream",
     "text": [
      "C:\\Users\\Butt Lab\\Anaconda3\\lib\\site-packages\\numpy\\core\\fromnumeric.py:3118: RuntimeWarning: Mean of empty slice.\n",
      "  out=out, **kwargs)\n",
      "C:\\Users\\Butt Lab\\Anaconda3\\lib\\site-packages\\numpy\\core\\_methods.py:85: RuntimeWarning: invalid value encountered in double_scalars\n",
      "  ret = ret.dtype.type(ret / rcount)\n"
     ]
    },
    {
     "name": "stdout",
     "output_type": "stream",
     "text": [
      "SX35.4: Analysing... 20814023.abf\n"
     ]
    },
    {
     "name": "stderr",
     "output_type": "stream",
     "text": [
      "C:\\Users\\Butt Lab\\Anaconda3\\lib\\site-packages\\numpy\\core\\fromnumeric.py:3118: RuntimeWarning: Mean of empty slice.\n",
      "  out=out, **kwargs)\n",
      "C:\\Users\\Butt Lab\\Anaconda3\\lib\\site-packages\\numpy\\core\\_methods.py:85: RuntimeWarning: invalid value encountered in double_scalars\n",
      "  ret = ret.dtype.type(ret / rcount)\n"
     ]
    },
    {
     "name": "stdout",
     "output_type": "stream",
     "text": [
      "SX35.5: Analysing... 20814030.abf\n"
     ]
    },
    {
     "name": "stderr",
     "output_type": "stream",
     "text": [
      "C:\\Users\\Butt Lab\\Anaconda3\\lib\\site-packages\\numpy\\core\\fromnumeric.py:3118: RuntimeWarning: Mean of empty slice.\n",
      "  out=out, **kwargs)\n",
      "C:\\Users\\Butt Lab\\Anaconda3\\lib\\site-packages\\numpy\\core\\_methods.py:85: RuntimeWarning: invalid value encountered in double_scalars\n",
      "  ret = ret.dtype.type(ret / rcount)\n"
     ]
    },
    {
     "name": "stdout",
     "output_type": "stream",
     "text": [
      "SX35.6: Analysing... 20814034.abf\n"
     ]
    },
    {
     "name": "stderr",
     "output_type": "stream",
     "text": [
      "C:\\Users\\Butt Lab\\Anaconda3\\lib\\site-packages\\numpy\\core\\fromnumeric.py:3118: RuntimeWarning: Mean of empty slice.\n",
      "  out=out, **kwargs)\n",
      "C:\\Users\\Butt Lab\\Anaconda3\\lib\\site-packages\\numpy\\core\\_methods.py:85: RuntimeWarning: invalid value encountered in double_scalars\n",
      "  ret = ret.dtype.type(ret / rcount)\n"
     ]
    },
    {
     "name": "stdout",
     "output_type": "stream",
     "text": [
      "SX35.7: Analysing... 20814042.abf\n"
     ]
    },
    {
     "name": "stderr",
     "output_type": "stream",
     "text": [
      "C:\\Users\\Butt Lab\\Anaconda3\\lib\\site-packages\\numpy\\core\\fromnumeric.py:3118: RuntimeWarning: Mean of empty slice.\n",
      "  out=out, **kwargs)\n",
      "C:\\Users\\Butt Lab\\Anaconda3\\lib\\site-packages\\numpy\\core\\_methods.py:85: RuntimeWarning: invalid value encountered in double_scalars\n",
      "  ret = ret.dtype.type(ret / rcount)\n"
     ]
    },
    {
     "name": "stdout",
     "output_type": "stream",
     "text": [
      "SX35.8: Analysing... 20814049.abf\n",
      "SX39.2: Analysing... 20818007.abf\n",
      "SX39.3: Analysing... 20818013.abf\n",
      "SX39.4: Analysing... 20818020.abf\n",
      "SX39.5: Analysing... 20818025.abf\n"
     ]
    },
    {
     "name": "stderr",
     "output_type": "stream",
     "text": [
      "C:\\Users\\Butt Lab\\Anaconda3\\lib\\site-packages\\numpy\\core\\fromnumeric.py:3118: RuntimeWarning: Mean of empty slice.\n",
      "  out=out, **kwargs)\n",
      "C:\\Users\\Butt Lab\\Anaconda3\\lib\\site-packages\\numpy\\core\\_methods.py:85: RuntimeWarning: invalid value encountered in double_scalars\n",
      "  ret = ret.dtype.type(ret / rcount)\n"
     ]
    },
    {
     "name": "stdout",
     "output_type": "stream",
     "text": [
      "SX39.6: Analysing... 20818031.abf\n",
      "SX44.2: Analysing... 20821001.abf\n",
      "SX44.3: Analysing... 20821007.abf\n",
      "SX47.1: Analysing... 20825002.abf\n"
     ]
    },
    {
     "name": "stderr",
     "output_type": "stream",
     "text": [
      "C:\\Users\\Butt Lab\\Anaconda3\\lib\\site-packages\\numpy\\core\\fromnumeric.py:3118: RuntimeWarning: Mean of empty slice.\n",
      "  out=out, **kwargs)\n",
      "C:\\Users\\Butt Lab\\Anaconda3\\lib\\site-packages\\numpy\\core\\_methods.py:85: RuntimeWarning: invalid value encountered in double_scalars\n",
      "  ret = ret.dtype.type(ret / rcount)\n"
     ]
    },
    {
     "name": "stdout",
     "output_type": "stream",
     "text": [
      "SX47.2: Analysing... 20825009.abf\n",
      "SX49.1: Analysing... 20825017.abf\n",
      "SX49.2: Analysing... 20825024.abf\n"
     ]
    },
    {
     "name": "stderr",
     "output_type": "stream",
     "text": [
      "C:\\Users\\Butt Lab\\Anaconda3\\lib\\site-packages\\numpy\\core\\fromnumeric.py:3118: RuntimeWarning: Mean of empty slice.\n",
      "  out=out, **kwargs)\n",
      "C:\\Users\\Butt Lab\\Anaconda3\\lib\\site-packages\\numpy\\core\\_methods.py:85: RuntimeWarning: invalid value encountered in double_scalars\n",
      "  ret = ret.dtype.type(ret / rcount)\n"
     ]
    },
    {
     "name": "stdout",
     "output_type": "stream",
     "text": [
      "SX67.1: Analysing... 20n12013.abf\n"
     ]
    }
   ],
   "source": [
    "# Inputs\n",
    "filename = \"C:\\\\Users\\\\Butt Lab\\\\OneDrive - OnTheHub - The University of Oxford\\\\TheBible.csv\"\n",
    "data = loadLabBook(filename)\n",
    "data = data[data.Experiment=='IntrinsicProfile']\n",
    "data = data[data.Discard==0]\n",
    "results = pd.DataFrame()\n",
    "\n",
    "# Select IDs to analyse\n",
    "cellIDs = np.unique(data.CellID)\n",
    "# cellIDs = [\"OLL20.5\"]\n",
    "\n",
    "for cellID in cellIDs:  \n",
    "    cellData = data[data.CellID==cellID]    \n",
    "    print(cellID + \": Analysing... \" + cellData.filename.values[0])\n",
    "    inputFolder = os.path.join(list(cellData.foldername)[0], list(cellData.CellID)[0])\n",
    "    outputFolder = os.path.join(inputFolder, \"IntrinsicProfile\")\n",
    "    if not os.path.isdir(outputFolder):\n",
    "        os.mkdir(outputFolder)\n",
    "        \n",
    "    abf = os.path.join(inputFolder, list(cellData.filename)[0])\n",
    "    IPresultsFilename = os.path.join(outputFolder,\"IP_Results.npy\")\n",
    "    \n",
    "    IPdata = LoadFileABF_CC(abf, cellData.DualPatch.values[0])\n",
    "    IPresults = IntrinsicProfiles_ExtractFeatures(IPdata, plotting = False)\n",
    "    np.save(IPresultsFilename, IPresults)\n",
    "    \n",
    "    features = IntrinsicProfiles_SelectFeatures(cellData, IPdata, IPresults, plotting = False, plottingFolder = outputFolder)\n",
    "    results = results.append(pd.DataFrame(features, index = [0]))\n",
    "    \n",
    "results.reset_index(inplace=True, drop=True)\n",
    "results.to_csv('IntrinsicProfiles_Results.csv')\n",
    "    "
   ]
  }
 ],
 "metadata": {
  "kernelspec": {
   "display_name": "Python 3",
   "language": "python",
   "name": "python3"
  },
  "language_info": {
   "codemirror_mode": {
    "name": "ipython",
    "version": 3
   },
   "file_extension": ".py",
   "mimetype": "text/x-python",
   "name": "python",
   "nbconvert_exporter": "python",
   "pygments_lexer": "ipython3",
   "version": "3.7.3"
  }
 },
 "nbformat": 4,
 "nbformat_minor": 4
}
