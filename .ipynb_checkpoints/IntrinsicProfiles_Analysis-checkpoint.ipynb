{
 "cells": [
  {
   "cell_type": "code",
   "execution_count": null,
   "metadata": {},
   "outputs": [],
   "source": [
    "\n",
    "\n",
    "results.groupby(['CellLayer','BrainArea','Development','CellType'])[\"Cell_ID\"].count()"
   ]
  },
  {
   "cell_type": "code",
   "execution_count": null,
   "metadata": {},
   "outputs": [],
   "source": [
    "import seaborn as sns\n",
    "plt.figure\n",
    "sns.scatterplot(x='AP_HalfWidth', y='MaxFiringFrequency', hue='CellType',data=results)\n",
    "plt.xlim(0, 0.005)\n",
    "\n",
    "resultsPlotting=results[(results.CellType!='FS')&(results.CellType!='ND')&(results.CellLayer==4)]\n",
    "\n",
    "g = sns.catplot(x=\"Development\", y=\"MaxFiringFrequency\", hue=\"CellType\", col='BrainArea', order=['P5-P8','P9-P13','P14-P18'], data=resultsPlotting, kind=\"violin\",height=5, aspect=1);\n",
    "g = sns.catplot(x=\"Development\", y=\"RMP\", hue=\"CellType\", col='BrainArea', order=['P5-P8','P9-P13','P14-P18'], data=resultsPlotting, kind=\"box\",height=5, aspect=1);\n",
    "g = sns.catplot(x=\"Development\", y=\"Rin\", hue=\"CellType\", col='BrainArea', order=['P5-P8','P9-P13','P14-P18'], data=resultsPlotting, kind=\"box\",height=5, aspect=1);\n",
    "g = sns.catplot(x=\"Development\", y=\"Rheobase\", hue=\"CellType\", col='BrainArea', order=['P5-P8','P9-P13','P14-P18'], data=resultsPlotting, kind=\"box\",height=5, aspect=1);\n",
    "g = sns.catplot(x=\"Development\", y=\"AP_Threshold\", hue=\"CellType\", col='BrainArea', order=['P5-P8','P9-P13','P14-P18'], data=resultsPlotting, kind=\"box\",height=5, aspect=1);\n",
    "g = sns.catplot(x=\"Development\", y=\"AP_Height\", hue=\"CellType\", col='BrainArea', order=['P5-P8','P9-P13','P14-P18'], data=resultsPlotting, kind=\"box\",height=5, aspect=1);\n",
    "g = sns.catplot(x=\"Development\", y=\"AP_HalfWidth\", hue=\"CellType\", col='BrainArea', order=['P5-P8','P9-P13','P14-P18'], data=resultsPlotting, kind=\"box\",height=5, aspect=1);\n",
    "g = sns.catplot(x=\"Development\", y=\"AP_AHP\", hue=\"CellType\", col='BrainArea', order=['P5-P8','P9-P13','P14-P18'], data=resultsPlotting, kind=\"box\",height=5, aspect=1);\n",
    "g = sns.catplot(x=\"Development\", y=\"Tau\", hue=\"CellType\", col='BrainArea', order=['P5-P8','P9-P13','P14-P18'], data=resultsPlotting, kind=\"box\",height=5, aspect=1);\n",
    "g = sns.catplot(x=\"Development\", y=\"AdaptationIndex\", hue=\"CellType\", col='BrainArea', order=['P5-P8','P9-P13','P14-P18'], data=resultsPlotting, kind=\"box\",height=5, aspect=1);\n",
    "g = sns.catplot(x=\"Development\", y=\"VoltageSag\", hue=\"CellType\", col='BrainArea', order=['P5-P8','P9-P13','P14-P18'], data=resultsPlotting, kind=\"box\",height=5, aspect=1);"
   ]
  }
 ],
 "metadata": {
  "kernelspec": {
   "display_name": "Python 3",
   "language": "python",
   "name": "python3"
  },
  "language_info": {
   "codemirror_mode": {
    "name": "ipython",
    "version": 3
   },
   "file_extension": ".py",
   "mimetype": "text/x-python",
   "name": "python",
   "nbconvert_exporter": "python",
   "pygments_lexer": "ipython3",
   "version": "3.7.3"
  }
 },
 "nbformat": 4,
 "nbformat_minor": 4
}
